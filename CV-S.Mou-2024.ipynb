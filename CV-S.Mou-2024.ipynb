{
 "cells": [
  {
   "cell_type": "markdown",
   "metadata": {},
   "source": [
    "# Soodeh Mousavi asl\n",
    "### CONTACT INFORMATION\n",
    "- Email: soodeh.mousaviasl@haw-hamburg.de\n",
    "- [LinkedIn](https://www.linkedin.com/in/soodeh-mousavi-asl-44a476235/)\n",
    "- [GitHub](https://github.com/Soodeh84)\n"
   ]
  },
  {
   "cell_type": "markdown",
   "metadata": {},
   "source": [
    "### EDUCATION    \n",
    "- Since 10/2020  :   **B.Sc. Information Engineering, Hamburg University of Applied Science, Germany** \n",
    "    - C programming language(e.g. to process scientific data or program microcontrollers)\n",
    "    - JavaScript applications in web development to create interactive and dynamic computer graphics, e.g., 3D scenes and simulations of object movements using three.js library\n",
    "    - Object oriented programming in JAVA and application development with Graphical User Interfaces (GUI)\n",
    "    - Algorithms and complexity estimations, search and sorting algorithms using C language\n",
    "    - Structure Query language (SQL), database developments methods and techniques, database management systems\n",
    "    - Applying high-level programming languages (e.g. C) to solve hardware oriented tasks\n",
    "    - To program and debug microprocessor systems, microcontroller software concepts and constructs including interrupt based design\n",
    "    - Time management, conflict management and dealing with limited resources, project management techniques and tools (group work: designing a basketball robot)\n",
    "    - Understanding AC and DC signals, semiconductor basics, diodes, transistors and amplifiers, using advanced Oscilloscopes, SPICE simulations, LabVIEW\n",
    "    - To model state machines using Algorithmic state machine (ASM), and to design and implement digital system solution with programmable logic (FPGA implementations)\n",
    "    - Principles of sensors and bus systems (e.g. ultrasonic sensor HC_SR04, Inertial sensor cluster MPU6070, Temperature and humidity sensor DHT11, gas sensor CCS811, CAN, I2C)\n",
    "    - To learn and use the functionality of an operating system (Linux and Windows OS)\n",
    "    - Theory of cultural differences and intercultural aspects in business and teamwork\n",
    "\n",
    "- 09/2014-10/2017:   **M.Sc. Science for Conservation and Restoration of cultural heritage, University of Bologna, Italy**  \n",
    "    - Gain scientific knowledge on Chemistry, physics, biology, and informatics applied to cultural heritage\n",
    "    - Learn the principle of the most advanced analytical techniques (e.g. NMR, MRI, CT scan, FTIR and RAMAN spectroscopy, Electron Microscopy (SEM&TEM), RADAR, DNA analysis, etc.) and applying them to study the cultural heritage\n",
    "    - Final thesis project: Analytical Methods for the Characterization of Materials in Motion Picture Films and their Degradation using Gas chromatography- Mass spectrometry (GC-MS)\n",
    "    - GPA: 1.0 (110/110)\n",
    "\n",
    "- 09/2006-03/2010:   **B.A. Restoration and Conservation of historical relics, Art university of Isfahan, Iran**\n",
    "    - Learn to conduct scientific analyses and assessments of artifacts to identify deterioration causes, determine suitable conservation methods, and assess the effectiveness of restoration treatments\n",
    "    - Develop skills in documenting conservation processes, creating condition reports, and maintaining comprehensive records of treatment procedures\n",
    "    - Enhance research and critical thinking abilities to investigate historical relics, interpret historical data, and make informed decisions in conservation and restoration projects\n",
    "    - Foster teamwork and collaboration skills by working with other students, professionals, and stakeholders in conservation and museum settings\n",
    "    - Improve communication skills to effectively convey findings, conservation plans, and treatment outcomes to colleagues, and the public\n",
    "    - Final thesis project: Conservation and Restoration of the paintings on the stone plinth of the mirror terrace of Chihil Sotoun, Isfahan, Iran\n",
    "    - GPA: 1.8 (17.09/20)"
   ]
  },
  {
   "cell_type": "markdown",
   "metadata": {},
   "source": [
    "### PROJECTS\n",
    "- 01/2024-02/2024: **Large Language Model (LLM) performance on Physics 101 coursework in different languages**\n",
    "    - Assisted in the compilation of a new dataset comprising Physics 101 multiple-choice questions aimed at testing the physical reasoning abilities of LLMs.\n",
    "    - Contributed to data cleaning efforts to evaluate the translations from English to Italian, ensuring accuracy and reliability in the assessment of language model performance.\n",
    "- 10/2023-01/2024:   **3D Computer Graphics assignments**\n",
    "    - **Snake game**: Developed a [3D snake game](https://github.com/Soodeh84/ExtendedSnakeGame.git).\n",
    "    - **3D Clock**: Designed and implemented a dual-sided [3D clock](https://github.com/Soodeh84/ComputerGraphicLabs.git).\n",
    "    - **Billiard Table Simulation**: Developed a realistic [billiard simulation](https://github.com/Soodeh84/Billiard-Simulation.git).\n",
    "- 06/2023-11/2023:   **Elective project: Development of a ROS -based module for the detection and relative localization of construction site beacons**\n",
    "    - implementation of an object classifier YOLOv4 for construction site beacons based on a Ladybug-camera from the test vehicle as an inline module based on ROS Noetic as part of EDDY (European Digital Dynamic Mapping) project with the main following steps:\n",
    "        - *Data collection*: annotating collected dataset of images containing construction site beacons with bonding boxes around beacons\n",
    "        - *Data processing*: split the dataset into 3 sets: test, train, valid\n",
    "        - *Model training*: train the YOLOv4 model using Google Colab then evaluate the model’s performance on the valid dataset, to use the weights with OpenCV\n",
    "        - *ROS integration*: developing a ROS node that takes images from a camera as input then integrate the trained model within this node and ROS messages and topics to handle input data (images) and output data (beacon detection, relative localization)\n",
    "        - *Relative Localization*: applying some algorithms to calculate the distance and the angle of the beacons in respect to the camera on the test vehicle and use the results to calculate the relative localization of the detected beacons\n",
    "        - *Publishing the results*: publish the detected beacon position and relative locations as ROS messages to a topic\n",
    "\n",
    "- 04/2023-06/2023:   **Linux and windows OS Projects**\n",
    "     - **Linux OS**: Management of file systems and network access, Locking of concurrent access, wildcards usage; Inter-process communications using message queues, and shared memory; Execution of a TCP server via internet super-daemon\n",
    "     - **Windows OS**: Implementation of a multi process system to read trigger signals, to do some processing and to generate output; Investigating Priority control under Windows OS\n",
    "- 04/2023-06/2023:   **Bus systems and sensors Projects** \n",
    "     - Function and characteristics of ultrasound based ToF sensors for distance measurements, using Arduino Nano and HC-SR04\n",
    "     - Function and characterisation of an inertial sensor cluster/I2C BUS, using Arduino Nano and MPU6050\n",
    "     - Function and characterisation of a temperature and humidity sensor/1-wire interface and a gas sensor/I2C bus, using Arduino Nano and DHT11 and CCS811 sensors\n",
    "     - The CAN BUS and transmission of sensor signals in a CAN network using Arduino Nano, DHT11 and CCS811 and TRU-components USB-CAN\n",
    "- 04/2022-06/2022:   **Microcontroller(Tiva TM4C1294) Project: UART Interrupt**\n",
    "     - Displaying the 4 different card suits (spade, diamond, heart, and clover respectively) on the LED pendulum by pushing W, A, S, D keys of the keyboard, on the fly. Only one shape is displayed at a time, and it remains on the pendulum until another key is pressed\n",
    "                          "
   ]
  },
  {
   "cell_type": "markdown",
   "metadata": {},
   "source": [
    "### PROFESSIONAL WORK HISTORY\n",
    "- 10/2015-02/2016: **Chemistry Laboratory assistance, University of Bologna, Italy**\n",
    "     - Applying Fourier Transform Infrared (FTIR) Spectroscopy analysis on several unknown paint layers \n",
    "- 04/2009-09/2014: **Freelance Professional Conservator-Restorer, Iran**\n",
    "     - Head conservator responsible of documentary and archiving several precious and historical books and documents in Malek museum, Teheran\n",
    "     - Mural conservator-restorer \n",
    "     - Paper and manuscripts conservator-restorer"
   ]
  },
  {
   "cell_type": "markdown",
   "metadata": {},
   "source": [
    "### STUDENT JOB EXPERINCES\n",
    "- 09/2021-02/2024: **Delivery Service, Stadtsalat Restaurant, Hamburg, Germany**     \n",
    "     - Collaborated effectively with team members to ensure prompt and efficient service delivery, showcasing exceptional teamwork skills.\n",
    "     - Managed delivery tasks with speed and accuracy, maintaining composure and effectiveness in high-pressure environments, particularly during peak hours.\n",
    "     - Successfully balanced responsibilities between work and academics, demonstrating strong time management and organizational abilities.\n",
    "- 04/2018-07/2019: **Waitress, Hotel's Restaurants, Rimini, Italy**\n",
    "     - Engaged in effective teamwork to ensure smooth service delivery within the hotel's restaurants, contributing to a positive dining experience for patrons.\n",
    "     - Demonstrated adeptness in managing tasks swiftly and accurately during busy periods, maintaining high standards of service quality.\n",
    "     - Provided excellent customer service, fostering a welcoming atmosphere and ensuring satisfaction among guests.\n",
    "     - Adapted quickly to changing priorities and maintained composure under pressure, responding effectively to the dynamic demands of the restaurant environment."
   ]
  },
  {
   "cell_type": "markdown",
   "metadata": {},
   "source": [
    "### SKILLS\n",
    "- Programming Languages\n",
    "    - **C/C++**: --------------------------------------Good\n",
    "    - **Python (numpy, pytorch, tensorflow)**: --Very Good\n",
    "    - **JavaScript**: ----------------------------------Very Good\n",
    "    - **JAVA**: ----------------------------------------Good\n",
    "    - **HTML&CSS**: ---------------------------------Very Good\n",
    "    - **MySQL**: --------------------------------------Good\n",
    "    - **MATLAB**: ------------------------------------Good\n",
    "    - **VHDL**: ----------------------------------------Good\n",
    "    - **LaTex**: ----------------------------------------Very Good\n",
    "- Operating Systems\n",
    "    - **WINDOWS**: ----------------------------------Very Good\n",
    "    - **LINUX**: ----------------------------------------Good\n",
    "    - **ROS**: -------------------------------------------Good\n",
    "- Software & Tools\n",
    "    - **Office**: ----------------------------------------Excellent \n",
    "    - **LtSpice**: ---------------------------------------Good\n",
    "    - **LabVIEW**: -------------------------------------Good\n",
    "    - **VIVADO**: --------------------------------------Good\n",
    "    - **Git**: --------------------------------------------Good\n",
    "    - **Photoshop**: -----------------------------------Excellent\n"
   ]
  },
  {
   "cell_type": "markdown",
   "metadata": {},
   "source": [
    "### LANGUAGES\n",
    "- **English**:-----------C2\n",
    "- **Italian**:------------B2\n",
    "- **German**:----------A2\n",
    "- **Persian**:-----------Mother-tongue"
   ]
  }
 ],
 "metadata": {
  "language_info": {
   "name": "python"
  }
 },
 "nbformat": 4,
 "nbformat_minor": 2
}
